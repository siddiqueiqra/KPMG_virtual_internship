{
 "cells": [
  {
   "cell_type": "markdown",
   "id": "f6c24dfd",
   "metadata": {},
   "source": [
    "# Data Insights\n",
    "### Targeting high value customers based on customer demographics and attributes."
   ]
  },
  {
   "cell_type": "code",
   "execution_count": 2,
   "id": "e2917c6b",
   "metadata": {},
   "outputs": [],
   "source": [
    "import numpy as np\n",
    "import pandas as pd\n",
    "import seaborn as sns\n",
    "import matplotlib.pyplot as plt"
   ]
  },
  {
   "cell_type": "code",
   "execution_count": 6,
   "id": "f0696bf4",
   "metadata": {},
   "outputs": [],
   "source": [
    "clean_data = pd.read_csv(r\"C:\\Users\\Lenovo\\Downloads\\Clean_data.csv\")"
   ]
  },
  {
   "cell_type": "code",
   "execution_count": 8,
   "id": "59649e68",
   "metadata": {},
   "outputs": [
    {
     "data": {
      "text/html": [
       "<div>\n",
       "<style scoped>\n",
       "    .dataframe tbody tr th:only-of-type {\n",
       "        vertical-align: middle;\n",
       "    }\n",
       "\n",
       "    .dataframe tbody tr th {\n",
       "        vertical-align: top;\n",
       "    }\n",
       "\n",
       "    .dataframe thead th {\n",
       "        text-align: right;\n",
       "    }\n",
       "</style>\n",
       "<table border=\"1\" class=\"dataframe\">\n",
       "  <thead>\n",
       "    <tr style=\"text-align: right;\">\n",
       "      <th></th>\n",
       "      <th>customer_id</th>\n",
       "      <th>Frequency</th>\n",
       "      <th>Monetary Value</th>\n",
       "      <th>F</th>\n",
       "      <th>M</th>\n",
       "      <th>RFM_Score</th>\n",
       "      <th>RFM_Level</th>\n",
       "      <th>first_name</th>\n",
       "      <th>last_name</th>\n",
       "      <th>gender</th>\n",
       "      <th>...</th>\n",
       "      <th>brand</th>\n",
       "      <th>product_line</th>\n",
       "      <th>product_class</th>\n",
       "      <th>product_size</th>\n",
       "      <th>list_price</th>\n",
       "      <th>standard_cost</th>\n",
       "      <th>Age</th>\n",
       "      <th>age_group</th>\n",
       "      <th>Profit</th>\n",
       "      <th>Recency</th>\n",
       "    </tr>\n",
       "  </thead>\n",
       "  <tbody>\n",
       "    <tr>\n",
       "      <th>0</th>\n",
       "      <td>1</td>\n",
       "      <td>11</td>\n",
       "      <td>3018.09</td>\n",
       "      <td>4</td>\n",
       "      <td>3</td>\n",
       "      <td>9.0</td>\n",
       "      <td>Mid Value Customer</td>\n",
       "      <td>Laraine</td>\n",
       "      <td>Medendorp</td>\n",
       "      <td>F</td>\n",
       "      <td>...</td>\n",
       "      <td>OHM Cycles</td>\n",
       "      <td>Standard</td>\n",
       "      <td>medium</td>\n",
       "      <td>medium</td>\n",
       "      <td>235.63</td>\n",
       "      <td>125.07</td>\n",
       "      <td>67</td>\n",
       "      <td>60-69</td>\n",
       "      <td>110.56</td>\n",
       "      <td>7</td>\n",
       "    </tr>\n",
       "    <tr>\n",
       "      <th>1</th>\n",
       "      <td>1</td>\n",
       "      <td>11</td>\n",
       "      <td>3018.09</td>\n",
       "      <td>4</td>\n",
       "      <td>3</td>\n",
       "      <td>9.0</td>\n",
       "      <td>Mid Value Customer</td>\n",
       "      <td>Laraine</td>\n",
       "      <td>Medendorp</td>\n",
       "      <td>F</td>\n",
       "      <td>...</td>\n",
       "      <td>Solex</td>\n",
       "      <td>Standard</td>\n",
       "      <td>medium</td>\n",
       "      <td>medium</td>\n",
       "      <td>1577.53</td>\n",
       "      <td>826.51</td>\n",
       "      <td>67</td>\n",
       "      <td>60-69</td>\n",
       "      <td>751.02</td>\n",
       "      <td>209</td>\n",
       "    </tr>\n",
       "    <tr>\n",
       "      <th>2</th>\n",
       "      <td>1</td>\n",
       "      <td>11</td>\n",
       "      <td>3018.09</td>\n",
       "      <td>4</td>\n",
       "      <td>3</td>\n",
       "      <td>9.0</td>\n",
       "      <td>Mid Value Customer</td>\n",
       "      <td>Laraine</td>\n",
       "      <td>Medendorp</td>\n",
       "      <td>F</td>\n",
       "      <td>...</td>\n",
       "      <td>Trek Bicycles</td>\n",
       "      <td>Road</td>\n",
       "      <td>low</td>\n",
       "      <td>small</td>\n",
       "      <td>1720.70</td>\n",
       "      <td>1531.42</td>\n",
       "      <td>67</td>\n",
       "      <td>60-69</td>\n",
       "      <td>189.28</td>\n",
       "      <td>55</td>\n",
       "    </tr>\n",
       "  </tbody>\n",
       "</table>\n",
       "<p>3 rows × 38 columns</p>\n",
       "</div>"
      ],
      "text/plain": [
       "   customer_id  Frequency  Monetary Value  F  M  RFM_Score  \\\n",
       "0            1         11         3018.09  4  3        9.0   \n",
       "1            1         11         3018.09  4  3        9.0   \n",
       "2            1         11         3018.09  4  3        9.0   \n",
       "\n",
       "            RFM_Level first_name  last_name gender  ...          brand  \\\n",
       "0  Mid Value Customer    Laraine  Medendorp      F  ...     OHM Cycles   \n",
       "1  Mid Value Customer    Laraine  Medendorp      F  ...          Solex   \n",
       "2  Mid Value Customer    Laraine  Medendorp      F  ...  Trek Bicycles   \n",
       "\n",
       "  product_line product_class product_size list_price standard_cost Age  \\\n",
       "0     Standard        medium       medium     235.63        125.07  67   \n",
       "1     Standard        medium       medium    1577.53        826.51  67   \n",
       "2         Road           low        small    1720.70       1531.42  67   \n",
       "\n",
       "   age_group  Profit  Recency  \n",
       "0      60-69  110.56        7  \n",
       "1      60-69  751.02      209  \n",
       "2      60-69  189.28       55  \n",
       "\n",
       "[3 rows x 38 columns]"
      ]
     },
     "execution_count": 8,
     "metadata": {},
     "output_type": "execute_result"
    }
   ],
   "source": [
    "clean_data.head(3)"
   ]
  },
  {
   "cell_type": "markdown",
   "id": "d9ff6a6a",
   "metadata": {},
   "source": [
    "> # EDA"
   ]
  },
  {
   "cell_type": "code",
   "execution_count": 10,
   "id": "2dd5f88d",
   "metadata": {},
   "outputs": [],
   "source": [
    "#understanding the data"
   ]
  },
  {
   "cell_type": "markdown",
   "id": "33c7c74a",
   "metadata": {},
   "source": [
    "### Bike purchases over year"
   ]
  },
  {
   "cell_type": "code",
   "execution_count": 13,
   "id": "9c89dfc3",
   "metadata": {
    "collapsed": true
   },
   "outputs": [
    {
     "data": {
      "text/plain": [
       "<AxesSubplot: xlabel='gender', ylabel='past_purchases'>"
      ]
     },
     "execution_count": 13,
     "metadata": {},
     "output_type": "execute_result"
    },
    {
     "data": {
      "image/png": "[encoded data removed]",
      "text/plain": [
       "<Figure size 640x480 with 1 Axes>"
      ]
     },
     "metadata": {},
     "output_type": "display_data"
    }
   ],
   "source": [
    "sns.barplot(data=clean_data,x='gender',y='past_purchases')"
   ]
  },
  {
   "cell_type": "code",
   "execution_count": 17,
   "id": "9ac34dde",
   "metadata": {},
   "outputs": [],
   "source": [
    "RFM_gender=pd.crosstab(clean_data['gender'],clean_data['RFM_Level'])"
   ]
  },
  {
   "cell_type": "code",
   "execution_count": 18,
   "id": "5dc72e5f",
   "metadata": {},
   "outputs": [
    {
     "data": {
      "text/plain": [
       "<AxesSubplot: xlabel='gender'>"
      ]
     },
     "execution_count": 18,
     "metadata": {},
     "output_type": "execute_result"
    },
    {
     "data": {
      "image/png": "[encoded data removed]",
      "text/plain": [
       "<Figure size 640x480 with 1 Axes>"
      ]
     },
     "metadata": {},
     "output_type": "display_data"
    }
   ],
   "source": [
    "RFM_gender.plot(kind='bar')"
   ]
  },
  {
   "cell_type": "code",
   "execution_count": 21,
   "id": "9cb4ce05",
   "metadata": {},
   "outputs": [],
   "source": [
    "RFM_state=pd.crosstab(clean_data['state'],clean_data['RFM_Level'])"
   ]
  },
  {
   "cell_type": "code",
   "execution_count": 23,
   "id": "5b75c054",
   "metadata": {},
   "outputs": [
    {
     "data": {
      "text/plain": [
       "<AxesSubplot: xlabel='state'>"
      ]
     },
     "execution_count": 23,
     "metadata": {},
     "output_type": "execute_result"
    },
    {
     "data": {
      "image/png": "[encoded data removed]",
      "text/plain": [
       "<Figure size 640x480 with 1 Axes>"
      ]
     },
     "metadata": {},
     "output_type": "display_data"
    }
   ],
   "source": [
    "RFM_state.plot(kind='bar')"
   ]
  },
  {
   "cell_type": "markdown",
   "id": "de20f4fc",
   "metadata": {},
   "source": [
    "- NSW has the highest frequency high value customer."
   ]
  },
  {
   "cell_type": "code",
   "execution_count": 25,
   "id": "7876bf91",
   "metadata": {},
   "outputs": [
    {
     "data": {
      "text/plain": [
       "Index(['customer_id', 'Frequency', 'Monetary Value', 'F', 'M', 'RFM_Score',\n",
       "       'RFM_Level', 'first_name', 'last_name', 'gender', 'past_purchases',\n",
       "       'DOB', 'job_title', 'job_industry', 'wealth_segment',\n",
       "       'deceased_indicator', 'owns_car', 'tenure', 'address', 'postcode',\n",
       "       'state', 'country', 'property_valuation', 'transaction_id',\n",
       "       'product_id', 'transaction_date', 'online_order', 'order_status',\n",
       "       'brand', 'product_line', 'product_class', 'product_size', 'list_price',\n",
       "       'standard_cost', 'Age', 'age_group', 'Profit', 'Recency'],\n",
       "      dtype='object')"
      ]
     },
     "execution_count": 25,
     "metadata": {},
     "output_type": "execute_result"
    }
   ],
   "source": [
    "clean_data.columns"
   ]
  },
  {
   "cell_type": "code",
   "execution_count": 33,
   "id": "598025a4",
   "metadata": {},
   "outputs": [],
   "source": [
    "RFM_car=pd.crosstab(clean_data['owns_car'],clean_data['RFM_Level'])"
   ]
  },
  {
   "cell_type": "code",
   "execution_count": 34,
   "id": "8a55ea8c",
   "metadata": {},
   "outputs": [
    {
     "data": {
      "text/html": [
       "<div>\n",
       "<style scoped>\n",
       "    .dataframe tbody tr th:only-of-type {\n",
       "        vertical-align: middle;\n",
       "    }\n",
       "\n",
       "    .dataframe tbody tr th {\n",
       "        vertical-align: top;\n",
       "    }\n",
       "\n",
       "    .dataframe thead th {\n",
       "        text-align: right;\n",
       "    }\n",
       "</style>\n",
       "<table border=\"1\" class=\"dataframe\">\n",
       "  <thead>\n",
       "    <tr style=\"text-align: right;\">\n",
       "      <th>RFM_Level</th>\n",
       "      <th>High Value Customer</th>\n",
       "      <th>Low Value Customer</th>\n",
       "      <th>Mid Value Customer</th>\n",
       "    </tr>\n",
       "    <tr>\n",
       "      <th>owns_car</th>\n",
       "      <th></th>\n",
       "      <th></th>\n",
       "      <th></th>\n",
       "    </tr>\n",
       "  </thead>\n",
       "  <tbody>\n",
       "    <tr>\n",
       "      <th>No</th>\n",
       "      <td>1320</td>\n",
       "      <td>2571</td>\n",
       "      <td>2429</td>\n",
       "    </tr>\n",
       "    <tr>\n",
       "      <th>Yes</th>\n",
       "      <td>1296</td>\n",
       "      <td>2755</td>\n",
       "      <td>2599</td>\n",
       "    </tr>\n",
       "  </tbody>\n",
       "</table>\n",
       "</div>"
      ],
      "text/plain": [
       "RFM_Level  High Value Customer  Low Value Customer  Mid Value Customer\n",
       "owns_car                                                              \n",
       "No                        1320                2571                2429\n",
       "Yes                       1296                2755                2599"
      ]
     },
     "execution_count": 34,
     "metadata": {},
     "output_type": "execute_result"
    }
   ],
   "source": [
    "RFM_car"
   ]
  },
  {
   "cell_type": "code",
   "execution_count": 28,
   "id": "eead63c2",
   "metadata": {},
   "outputs": [
    {
     "data": {
      "text/plain": [
       "<AxesSubplot: xlabel='owns_car'>"
      ]
     },
     "execution_count": 28,
     "metadata": {},
     "output_type": "execute_result"
    },
    {
     "data": {
      "image/png": "[encoded data removed]",
      "text/plain": [
       "<Figure size 640x480 with 1 Axes>"
      ]
     },
     "metadata": {},
     "output_type": "display_data"
    }
   ],
   "source": [
    "RFM_car.plot(kind='bar')"
   ]
  },
  {
   "cell_type": "markdown",
   "id": "c9ddbe2b",
   "metadata": {},
   "source": [
    "Insights:\n",
    "\n",
    "- The majority of customers in all three value segments (high, mid, low) do not own a car, with 1320 high value customers and 2571 low value customers not owning a car.\n",
    "- Among customers who own a car, there is a slightly higher proportion of mid-value customers (2599) compared to high-value customers (1296) and low-value customers (2755).\n",
    "- The difference in the number of car owners between high and low value customers is relatively small (1296 for high value customers vs. 2755 for low value customers)."
   ]
  },
  {
   "cell_type": "code",
   "execution_count": 36,
   "id": "47a3180c",
   "metadata": {},
   "outputs": [],
   "source": [
    "RFM_age_group=pd.crosstab(clean_data['age_group'],clean_data['RFM_Level'])"
   ]
  },
  {
   "cell_type": "code",
   "execution_count": 39,
   "id": "8d408dc0",
   "metadata": {},
   "outputs": [
    {
     "data": {
      "text/html": [
       "<div>\n",
       "<style scoped>\n",
       "    .dataframe tbody tr th:only-of-type {\n",
       "        vertical-align: middle;\n",
       "    }\n",
       "\n",
       "    .dataframe tbody tr th {\n",
       "        vertical-align: top;\n",
       "    }\n",
       "\n",
       "    .dataframe thead th {\n",
       "        text-align: right;\n",
       "    }\n",
       "</style>\n",
       "<table border=\"1\" class=\"dataframe\">\n",
       "  <thead>\n",
       "    <tr style=\"text-align: right;\">\n",
       "      <th>RFM_Level</th>\n",
       "      <th>High Value Customer</th>\n",
       "      <th>Low Value Customer</th>\n",
       "      <th>Mid Value Customer</th>\n",
       "    </tr>\n",
       "    <tr>\n",
       "      <th>age_group</th>\n",
       "      <th></th>\n",
       "      <th></th>\n",
       "      <th></th>\n",
       "    </tr>\n",
       "  </thead>\n",
       "  <tbody>\n",
       "    <tr>\n",
       "      <th>0-19</th>\n",
       "      <td>66</td>\n",
       "      <td>103</td>\n",
       "      <td>90</td>\n",
       "    </tr>\n",
       "    <tr>\n",
       "      <th>20-29</th>\n",
       "      <td>422</td>\n",
       "      <td>984</td>\n",
       "      <td>841</td>\n",
       "    </tr>\n",
       "    <tr>\n",
       "      <th>30-39</th>\n",
       "      <td>507</td>\n",
       "      <td>955</td>\n",
       "      <td>1029</td>\n",
       "    </tr>\n",
       "    <tr>\n",
       "      <th>40-49</th>\n",
       "      <td>827</td>\n",
       "      <td>1869</td>\n",
       "      <td>1632</td>\n",
       "    </tr>\n",
       "    <tr>\n",
       "      <th>50-59</th>\n",
       "      <td>533</td>\n",
       "      <td>880</td>\n",
       "      <td>861</td>\n",
       "    </tr>\n",
       "    <tr>\n",
       "      <th>60-69</th>\n",
       "      <td>261</td>\n",
       "      <td>523</td>\n",
       "      <td>560</td>\n",
       "    </tr>\n",
       "    <tr>\n",
       "      <th>70-79</th>\n",
       "      <td>0</td>\n",
       "      <td>7</td>\n",
       "      <td>5</td>\n",
       "    </tr>\n",
       "    <tr>\n",
       "      <th>80-90</th>\n",
       "      <td>0</td>\n",
       "      <td>5</td>\n",
       "      <td>10</td>\n",
       "    </tr>\n",
       "  </tbody>\n",
       "</table>\n",
       "</div>"
      ],
      "text/plain": [
       "RFM_Level  High Value Customer  Low Value Customer  Mid Value Customer\n",
       "age_group                                                             \n",
       "0-19                        66                 103                  90\n",
       "20-29                      422                 984                 841\n",
       "30-39                      507                 955                1029\n",
       "40-49                      827                1869                1632\n",
       "50-59                      533                 880                 861\n",
       "60-69                      261                 523                 560\n",
       "70-79                        0                   7                   5\n",
       "80-90                        0                   5                  10"
      ]
     },
     "execution_count": 39,
     "metadata": {},
     "output_type": "execute_result"
    }
   ],
   "source": [
    "RFM_age_group"
   ]
  },
  {
   "cell_type": "code",
   "execution_count": 38,
   "id": "55648d86",
   "metadata": {},
   "outputs": [
    {
     "data": {
      "text/plain": [
       "<AxesSubplot: xlabel='age_group'>"
      ]
     },
     "execution_count": 38,
     "metadata": {},
     "output_type": "execute_result"
    },
    {
     "data": {
      "image/png": "[encoded data removed]",
      "text/plain": [
       "<Figure size 640x480 with 1 Axes>"
      ]
     },
     "metadata": {},
     "output_type": "display_data"
    }
   ],
   "source": [
    "RFM_age_group.plot(kind='bar')"
   ]
  },
  {
   "cell_type": "markdown",
   "id": "099f95dc",
   "metadata": {},
   "source": [
    "Insights:\n",
    "\n",
    "- The largest age group among high value customers is 40-49 with 827 customers, while the largest age group among low value customers is 40-49 with 1869 customers.\n",
    "- The proportion of customers in the 30-39 age group is relatively consistent across the three value segments (507 for high value, 955 for low value, and 1029 for mid value).\n",
    "- The number of customers in the 0-19 and 80-90 age groups is very small in all three segments, with no customers in the 70-79 age group among high value customers.\n",
    "- Young adults (20-29) form a larger proportion of low value customers (984) compared to high value customers (422)."
   ]
  },
  {
   "cell_type": "code",
   "execution_count": 31,
   "id": "2b1bb058",
   "metadata": {},
   "outputs": [],
   "source": [
    "RFM_industry=pd.crosstab(clean_data['job_industry'],clean_data['RFM_Level'])"
   ]
  },
  {
   "cell_type": "code",
   "execution_count": 32,
   "id": "7051be71",
   "metadata": {},
   "outputs": [
    {
     "data": {
      "text/plain": [
       "<AxesSubplot: xlabel='job_industry'>"
      ]
     },
     "execution_count": 32,
     "metadata": {},
     "output_type": "execute_result"
    },
    {
     "data": {
      "image/png": "[encoded data removed]",
      "text/plain": [
       "<Figure size 640x480 with 1 Axes>"
      ]
     },
     "metadata": {},
     "output_type": "display_data"
    }
   ],
   "source": [
    "RFM_industry.plot(kind='bar')"
   ]
  },
  {
   "cell_type": "code",
   "execution_count": 41,
   "id": "df5001cc",
   "metadata": {},
   "outputs": [
    {
     "data": {
      "text/html": [
       "<div>\n",
       "<style scoped>\n",
       "    .dataframe tbody tr th:only-of-type {\n",
       "        vertical-align: middle;\n",
       "    }\n",
       "\n",
       "    .dataframe tbody tr th {\n",
       "        vertical-align: top;\n",
       "    }\n",
       "\n",
       "    .dataframe thead th {\n",
       "        text-align: right;\n",
       "    }\n",
       "</style>\n",
       "<table border=\"1\" class=\"dataframe\">\n",
       "  <thead>\n",
       "    <tr style=\"text-align: right;\">\n",
       "      <th>RFM_Level</th>\n",
       "      <th>High Value Customer</th>\n",
       "      <th>Low Value Customer</th>\n",
       "      <th>Mid Value Customer</th>\n",
       "    </tr>\n",
       "    <tr>\n",
       "      <th>job_industry</th>\n",
       "      <th></th>\n",
       "      <th></th>\n",
       "      <th></th>\n",
       "    </tr>\n",
       "  </thead>\n",
       "  <tbody>\n",
       "    <tr>\n",
       "      <th>Argiculture</th>\n",
       "      <td>124</td>\n",
       "      <td>153</td>\n",
       "      <td>177</td>\n",
       "    </tr>\n",
       "    <tr>\n",
       "      <th>Entertainment</th>\n",
       "      <td>119</td>\n",
       "      <td>263</td>\n",
       "      <td>164</td>\n",
       "    </tr>\n",
       "    <tr>\n",
       "      <th>Financial Services</th>\n",
       "      <td>552</td>\n",
       "      <td>1367</td>\n",
       "      <td>1153</td>\n",
       "    </tr>\n",
       "    <tr>\n",
       "      <th>Health</th>\n",
       "      <td>538</td>\n",
       "      <td>1059</td>\n",
       "      <td>920</td>\n",
       "    </tr>\n",
       "    <tr>\n",
       "      <th>IT</th>\n",
       "      <td>117</td>\n",
       "      <td>160</td>\n",
       "      <td>283</td>\n",
       "    </tr>\n",
       "    <tr>\n",
       "      <th>Manufacturing</th>\n",
       "      <td>599</td>\n",
       "      <td>1193</td>\n",
       "      <td>1378</td>\n",
       "    </tr>\n",
       "    <tr>\n",
       "      <th>Property</th>\n",
       "      <td>205</td>\n",
       "      <td>506</td>\n",
       "      <td>348</td>\n",
       "    </tr>\n",
       "    <tr>\n",
       "      <th>Retail</th>\n",
       "      <td>308</td>\n",
       "      <td>501</td>\n",
       "      <td>524</td>\n",
       "    </tr>\n",
       "    <tr>\n",
       "      <th>Telecommunications</th>\n",
       "      <td>54</td>\n",
       "      <td>124</td>\n",
       "      <td>81</td>\n",
       "    </tr>\n",
       "  </tbody>\n",
       "</table>\n",
       "</div>"
      ],
      "text/plain": [
       "RFM_Level           High Value Customer  Low Value Customer  \\\n",
       "job_industry                                                  \n",
       "Argiculture                         124                 153   \n",
       "Entertainment                       119                 263   \n",
       "Financial Services                  552                1367   \n",
       "Health                              538                1059   \n",
       "IT                                  117                 160   \n",
       "Manufacturing                       599                1193   \n",
       "Property                            205                 506   \n",
       "Retail                              308                 501   \n",
       "Telecommunications                   54                 124   \n",
       "\n",
       "RFM_Level           Mid Value Customer  \n",
       "job_industry                            \n",
       "Argiculture                        177  \n",
       "Entertainment                      164  \n",
       "Financial Services                1153  \n",
       "Health                             920  \n",
       "IT                                 283  \n",
       "Manufacturing                     1378  \n",
       "Property                           348  \n",
       "Retail                             524  \n",
       "Telecommunications                  81  "
      ]
     },
     "execution_count": 41,
     "metadata": {},
     "output_type": "execute_result"
    }
   ],
   "source": [
    "RFM_industry"
   ]
  },
  {
   "cell_type": "markdown",
   "id": "97f9d1cd",
   "metadata": {},
   "source": [
    "insights:\n",
    "\n",
    "- The largest job industry among high value customers is Manufacturing with 599 customers, followed by Financial Services with 552 customers.\n",
    "- The largest job industry among low value customers is Financial Services with 1367 customers, followed by Manufacturing with 1193 customers.\n",
    "- The proportion of customers in the Manufacturing and Financial Services industries is relatively consistent across the three value segments.\n",
    "- The Entertainment industry has a higher proportion of low value customers (263) compared to high value customers (119).\n",
    "- The IT industry has a higher proportion of mid value customers (283) compared to high value customers (117) and low value customers (160).\n",
    "- The Telecommunications industry has a smaller proportion of customers in all three segments, with the highest representation among mid value customers (81)."
   ]
  },
  {
   "cell_type": "code",
   "execution_count": 43,
   "id": "afc7715e",
   "metadata": {},
   "outputs": [],
   "source": [
    "RFM_BRAND=pd.crosstab(clean_data['brand'],clean_data['RFM_Level'])"
   ]
  },
  {
   "cell_type": "code",
   "execution_count": 44,
   "id": "e15992b3",
   "metadata": {},
   "outputs": [
    {
     "data": {
      "text/html": [
       "<div>\n",
       "<style scoped>\n",
       "    .dataframe tbody tr th:only-of-type {\n",
       "        vertical-align: middle;\n",
       "    }\n",
       "\n",
       "    .dataframe tbody tr th {\n",
       "        vertical-align: top;\n",
       "    }\n",
       "\n",
       "    .dataframe thead th {\n",
       "        text-align: right;\n",
       "    }\n",
       "</style>\n",
       "<table border=\"1\" class=\"dataframe\">\n",
       "  <thead>\n",
       "    <tr style=\"text-align: right;\">\n",
       "      <th>RFM_Level</th>\n",
       "      <th>High Value Customer</th>\n",
       "      <th>Low Value Customer</th>\n",
       "      <th>Mid Value Customer</th>\n",
       "    </tr>\n",
       "    <tr>\n",
       "      <th>brand</th>\n",
       "      <th></th>\n",
       "      <th></th>\n",
       "      <th></th>\n",
       "    </tr>\n",
       "  </thead>\n",
       "  <tbody>\n",
       "    <tr>\n",
       "      <th>Giant Bicycles</th>\n",
       "      <td>426</td>\n",
       "      <td>899</td>\n",
       "      <td>833</td>\n",
       "    </tr>\n",
       "    <tr>\n",
       "      <th>Norco Bicycles</th>\n",
       "      <td>373</td>\n",
       "      <td>796</td>\n",
       "      <td>737</td>\n",
       "    </tr>\n",
       "    <tr>\n",
       "      <th>OHM Cycles</th>\n",
       "      <td>391</td>\n",
       "      <td>856</td>\n",
       "      <td>756</td>\n",
       "    </tr>\n",
       "    <tr>\n",
       "      <th>Solex</th>\n",
       "      <td>573</td>\n",
       "      <td>1160</td>\n",
       "      <td>1070</td>\n",
       "    </tr>\n",
       "    <tr>\n",
       "      <th>Trek Bicycles</th>\n",
       "      <td>417</td>\n",
       "      <td>784</td>\n",
       "      <td>768</td>\n",
       "    </tr>\n",
       "    <tr>\n",
       "      <th>WeareA2B</th>\n",
       "      <td>436</td>\n",
       "      <td>831</td>\n",
       "      <td>864</td>\n",
       "    </tr>\n",
       "  </tbody>\n",
       "</table>\n",
       "</div>"
      ],
      "text/plain": [
       "RFM_Level       High Value Customer  Low Value Customer  Mid Value Customer\n",
       "brand                                                                      \n",
       "Giant Bicycles                  426                 899                 833\n",
       "Norco Bicycles                  373                 796                 737\n",
       "OHM Cycles                      391                 856                 756\n",
       "Solex                           573                1160                1070\n",
       "Trek Bicycles                   417                 784                 768\n",
       "WeareA2B                        436                 831                 864"
      ]
     },
     "execution_count": 44,
     "metadata": {},
     "output_type": "execute_result"
    }
   ],
   "source": [
    "RFM_BRAND"
   ]
  },
  {
   "cell_type": "code",
   "execution_count": 49,
   "id": "d7764fba",
   "metadata": {},
   "outputs": [
    {
     "data": {
      "text/plain": [
       "<AxesSubplot: xlabel='brand'>"
      ]
     },
     "execution_count": 49,
     "metadata": {},
     "output_type": "execute_result"
    },
    {
     "data": {
      "image/png": "[encoded data removed]",
      "text/plain": [
       "<Figure size 640x480 with 1 Axes>"
      ]
     },
     "metadata": {},
     "output_type": "display_data"
    }
   ],
   "source": [
    "RFM_BRAND.plot(kind='bar')"
   ]
  },
  {
   "cell_type": "markdown",
   "id": "5a32b91a",
   "metadata": {},
   "source": [
    "Insights:\n",
    "\n",
    "- The largest brand among high value customers is Solex with 573 customers, followed by WeareA2B with 436 customers.\n",
    "- The largest brand among low value customers is Solex with 1160 customers, followed by WeareA2B with 831 customers.\n",
    "- The proportion of customers across brands is relatively consistent between high value and low value customers.\n",
    "- OHM Cycles, Giant Bicycles, and Trek Bicycles have a slightly higher representation among high value customers compared to low value customers.\n",
    "- The difference in the number of customers across brands is relatively small, with the highest difference being between Solex and OHM Cycles (573 for Solex vs. 391 for OHM Cycles among high value customers)."
   ]
  },
  {
   "cell_type": "code",
   "execution_count": 45,
   "id": "b0160e60",
   "metadata": {},
   "outputs": [],
   "source": [
    "RFM_line=pd.crosstab(clean_data['product_line'],clean_data['RFM_Level'])"
   ]
  },
  {
   "cell_type": "code",
   "execution_count": 46,
   "id": "f2762860",
   "metadata": {},
   "outputs": [
    {
     "data": {
      "text/html": [
       "<div>\n",
       "<style scoped>\n",
       "    .dataframe tbody tr th:only-of-type {\n",
       "        vertical-align: middle;\n",
       "    }\n",
       "\n",
       "    .dataframe tbody tr th {\n",
       "        vertical-align: top;\n",
       "    }\n",
       "\n",
       "    .dataframe thead th {\n",
       "        text-align: right;\n",
       "    }\n",
       "</style>\n",
       "<table border=\"1\" class=\"dataframe\">\n",
       "  <thead>\n",
       "    <tr style=\"text-align: right;\">\n",
       "      <th>RFM_Level</th>\n",
       "      <th>High Value Customer</th>\n",
       "      <th>Low Value Customer</th>\n",
       "      <th>Mid Value Customer</th>\n",
       "    </tr>\n",
       "    <tr>\n",
       "      <th>product_line</th>\n",
       "      <th></th>\n",
       "      <th></th>\n",
       "      <th></th>\n",
       "    </tr>\n",
       "  </thead>\n",
       "  <tbody>\n",
       "    <tr>\n",
       "      <th>Mountain</th>\n",
       "      <td>41</td>\n",
       "      <td>131</td>\n",
       "      <td>99</td>\n",
       "    </tr>\n",
       "    <tr>\n",
       "      <th>Road</th>\n",
       "      <td>497</td>\n",
       "      <td>1077</td>\n",
       "      <td>1028</td>\n",
       "    </tr>\n",
       "    <tr>\n",
       "      <th>Standard</th>\n",
       "      <td>1908</td>\n",
       "      <td>3826</td>\n",
       "      <td>3597</td>\n",
       "    </tr>\n",
       "    <tr>\n",
       "      <th>Touring</th>\n",
       "      <td>170</td>\n",
       "      <td>292</td>\n",
       "      <td>304</td>\n",
       "    </tr>\n",
       "  </tbody>\n",
       "</table>\n",
       "</div>"
      ],
      "text/plain": [
       "RFM_Level     High Value Customer  Low Value Customer  Mid Value Customer\n",
       "product_line                                                             \n",
       "Mountain                       41                 131                  99\n",
       "Road                          497                1077                1028\n",
       "Standard                     1908                3826                3597\n",
       "Touring                       170                 292                 304"
      ]
     },
     "execution_count": 46,
     "metadata": {},
     "output_type": "execute_result"
    }
   ],
   "source": [
    "RFM_line"
   ]
  },
  {
   "cell_type": "markdown",
   "id": "84355fc9",
   "metadata": {},
   "source": [
    "Insights:\n",
    "\n",
    "- The largest product line among high value customers is Standard with 1908 customers, followed by Road with 497 customers.\n",
    "- The largest product line among low value customers is Standard with 3826 customers, followed by Road with 1077 customers.\n",
    "- The proportion of customers across product lines is relatively consistent between high value and low value customers, with Standard bicycles being the most popular among both groups.\n",
    "- Mountain and Touring bicycles have a lower representation among both high and low value customers, with Touring bicycles having a slightly higher representation among mid value customers (304) compared to high value customers (170).\n",
    "- The difference in the number of customers across product lines is relatively large, with Standard bicycles having almost double the number of customers compared to the next most popular product line (Road)."
   ]
  },
  {
   "cell_type": "code",
   "execution_count": 51,
   "id": "1b9f27aa",
   "metadata": {},
   "outputs": [
    {
     "data": {
      "text/plain": [
       "Index(['customer_id', 'Frequency', 'Monetary Value', 'F', 'M', 'RFM_Score',\n",
       "       'RFM_Level', 'first_name', 'last_name', 'gender', 'past_purchases',\n",
       "       'DOB', 'job_title', 'job_industry', 'wealth_segment',\n",
       "       'deceased_indicator', 'owns_car', 'tenure', 'address', 'postcode',\n",
       "       'state', 'country', 'property_valuation', 'transaction_id',\n",
       "       'product_id', 'transaction_date', 'online_order', 'order_status',\n",
       "       'brand', 'product_line', 'product_class', 'product_size', 'list_price',\n",
       "       'standard_cost', 'Age', 'age_group', 'Profit', 'Recency'],\n",
       "      dtype='object')"
      ]
     },
     "execution_count": 51,
     "metadata": {},
     "output_type": "execute_result"
    }
   ],
   "source": [
    "clean_data.columns"
   ]
  },
  {
   "cell_type": "code",
   "execution_count": 52,
   "id": "9b42596a",
   "metadata": {},
   "outputs": [],
   "source": [
    "RFM_wealth=pd.crosstab(clean_data['wealth_segment'],clean_data['RFM_Level'])"
   ]
  },
  {
   "cell_type": "code",
   "execution_count": 53,
   "id": "d36f52e4",
   "metadata": {},
   "outputs": [
    {
     "data": {
      "text/html": [
       "<div>\n",
       "<style scoped>\n",
       "    .dataframe tbody tr th:only-of-type {\n",
       "        vertical-align: middle;\n",
       "    }\n",
       "\n",
       "    .dataframe tbody tr th {\n",
       "        vertical-align: top;\n",
       "    }\n",
       "\n",
       "    .dataframe thead th {\n",
       "        text-align: right;\n",
       "    }\n",
       "</style>\n",
       "<table border=\"1\" class=\"dataframe\">\n",
       "  <thead>\n",
       "    <tr style=\"text-align: right;\">\n",
       "      <th>RFM_Level</th>\n",
       "      <th>High Value Customer</th>\n",
       "      <th>Low Value Customer</th>\n",
       "      <th>Mid Value Customer</th>\n",
       "    </tr>\n",
       "    <tr>\n",
       "      <th>wealth_segment</th>\n",
       "      <th></th>\n",
       "      <th></th>\n",
       "      <th></th>\n",
       "    </tr>\n",
       "  </thead>\n",
       "  <tbody>\n",
       "    <tr>\n",
       "      <th>Affluent Customer</th>\n",
       "      <td>638</td>\n",
       "      <td>1264</td>\n",
       "      <td>1369</td>\n",
       "    </tr>\n",
       "    <tr>\n",
       "      <th>High Net Worth</th>\n",
       "      <td>733</td>\n",
       "      <td>1347</td>\n",
       "      <td>1237</td>\n",
       "    </tr>\n",
       "    <tr>\n",
       "      <th>Mass Customer</th>\n",
       "      <td>1245</td>\n",
       "      <td>2715</td>\n",
       "      <td>2422</td>\n",
       "    </tr>\n",
       "  </tbody>\n",
       "</table>\n",
       "</div>"
      ],
      "text/plain": [
       "RFM_Level          High Value Customer  Low Value Customer  Mid Value Customer\n",
       "wealth_segment                                                                \n",
       "Affluent Customer                  638                1264                1369\n",
       "High Net Worth                     733                1347                1237\n",
       "Mass Customer                     1245                2715                2422"
      ]
     },
     "execution_count": 53,
     "metadata": {},
     "output_type": "execute_result"
    }
   ],
   "source": [
    "RFM_wealth"
   ]
  },
  {
   "cell_type": "code",
   "execution_count": 54,
   "id": "887d0963",
   "metadata": {},
   "outputs": [
    {
     "data": {
      "text/plain": [
       "<AxesSubplot: xlabel='wealth_segment'>"
      ]
     },
     "execution_count": 54,
     "metadata": {},
     "output_type": "execute_result"
    },
    {
     "data": {
      "image/png": "[encoded data removed]",
      "text/plain": [
       "<Figure size 640x480 with 1 Axes>"
      ]
     },
     "metadata": {},
     "output_type": "display_data"
    }
   ],
   "source": [
    "RFM_wealth.plot(kind='bar')"
   ]
  },
  {
   "cell_type": "markdown",
   "id": "98aa08e6",
   "metadata": {},
   "source": [
    "Insights:\n",
    "\n",
    "- The largest wealth segment among high value customers is Mass Customer with 1245 customers, followed by Affluent Customer with 638 customers.\n",
    "- The largest wealth segment among low value customers is Mass Customer with 2715 customers, followed by Affluent Customer with 1264 customers.\n",
    "- The proportion of customers across wealth segments is relatively consistent between high value and low value customers, with Mass Customer being the most popular among both groups.\n",
    "- High Net Worth customers have a higher representation among high value customers (733) compared to low value customers (1347).\n",
    "- The difference in the number of customers across wealth segments is relatively large, with Mass Customer having more than double the number of customers compared to the next largest segment (Affluent Customer)."
   ]
  },
  {
   "cell_type": "markdown",
   "id": "3e3f0b30",
   "metadata": {},
   "source": [
    "# Recommendation"
   ]
  },
  {
   "cell_type": "markdown",
   "id": "f0eac966",
   "metadata": {},
   "source": [
    "For high value customers, it is recommended to:\n",
    "\n",
    "- Focus on the Manufacturing job industry, as it has the largest representation among high value customers.\n",
    "- Offer promotions and discounts on brands such as OHM Cycles, Giant Bicycles, and Trek Bicycles, as they have a slightly higher representation among high value customers.\n",
    "- Emphasize on the Road and Standard product lines, as they have the largest representation among high value customers.\n",
    "- Cater to the needs of High Net Worth customers as they have a higher representation among high value customers.\n",
    "- Offer customized services and high-end products to attract Affluent Customers.\n",
    "- Monitor and analyze customer behavior, preferences and feedback to continuously improve the customer experience and retain high value customers.\n",
    "\n",
    "\n"
   ]
  },
  {
   "cell_type": "code",
   "execution_count": null,
   "id": "ad5980b7",
   "metadata": {},
   "outputs": [],
   "source": []
  },
  {
   "cell_type": "code",
   "execution_count": null,
   "id": "993155e5",
   "metadata": {},
   "outputs": [],
   "source": []
  },
  {
   "cell_type": "code",
   "execution_count": null,
   "id": "f9dc4823",
   "metadata": {},
   "outputs": [],
   "source": []
  },
  {
   "cell_type": "code",
   "execution_count": null,
   "id": "86bd22ea",
   "metadata": {},
   "outputs": [],
   "source": []
  },
  {
   "cell_type": "code",
   "execution_count": null,
   "id": "468f519b",
   "metadata": {},
   "outputs": [],
   "source": []
  },
  {
   "cell_type": "code",
   "execution_count": null,
   "id": "e36ed422",
   "metadata": {},
   "outputs": [],
   "source": []
  }
 ],
 "metadata": {
  "kernelspec": {
   "display_name": "Python 3 (ipykernel)",
   "language": "python",
   "name": "python3"
  },
  "language_info": {
   "codemirror_mode": {
    "name": "ipython",
    "version": 3
   },
   "file_extension": ".py",
   "mimetype": "text/x-python",
   "name": "python",
   "nbconvert_exporter": "python",
   "pygments_lexer": "ipython3",
   "version": "3.9.15"
  }
 },
 "nbformat": 4,
 "nbformat_minor": 5
}
